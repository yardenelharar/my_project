{
 "cells": [
  {
   "cell_type": "code",
   "execution_count": 1,
   "id": "0c375e11-19fb-4c5a-97e1-725b657e233e",
   "metadata": {},
   "outputs": [],
   "source": [
    "import pandas as pd\n",
    "import numpy as np\n",
    "my_file='https://raw.githubusercontent.com/owid/covid-19-data/master/public/data/vaccinations/vaccinations.csv'\n",
    "R_file=pd.read_csv(my_file)"
   ]
  },
  {
   "cell_type": "code",
   "execution_count": 2,
   "id": "4a968f74-4b81-4e30-b916-61fb79a66c70",
   "metadata": {},
   "outputs": [],
   "source": [
    "#1"
   ]
  },
  {
   "cell_type": "code",
   "execution_count": 3,
   "id": "68f8300a-929b-4737-9ec9-1a39bfd80f82",
   "metadata": {},
   "outputs": [
    {
     "data": {
      "text/plain": [
       "6756"
      ]
     },
     "execution_count": 3,
     "metadata": {},
     "output_type": "execute_result"
    }
   ],
   "source": [
    "R_file['date']=pd.to_datetime(R_file['date'])\n",
    "r_file=(R_file['date'].dt.month_name()=='June')\n",
    "My_month=R_file[r_file].copy()\n",
    "len(My_month)"
   ]
  },
  {
   "cell_type": "code",
   "execution_count": 4,
   "id": "8f986212-b4f5-47c7-b753-d9ed47386488",
   "metadata": {},
   "outputs": [],
   "source": [
    "#2"
   ]
  },
  {
   "cell_type": "code",
   "execution_count": 7,
   "id": "736bcec2-dc04-4ae4-b345-03d2dde633ba",
   "metadata": {},
   "outputs": [
    {
     "data": {
      "text/html": [
       "<div>\n",
       "<style scoped>\n",
       "    .dataframe tbody tr th:only-of-type {\n",
       "        vertical-align: middle;\n",
       "    }\n",
       "\n",
       "    .dataframe tbody tr th {\n",
       "        vertical-align: top;\n",
       "    }\n",
       "\n",
       "    .dataframe thead th {\n",
       "        text-align: right;\n",
       "    }\n",
       "</style>\n",
       "<table border=\"1\" class=\"dataframe\">\n",
       "  <thead>\n",
       "    <tr style=\"text-align: right;\">\n",
       "      <th></th>\n",
       "      <th></th>\n",
       "      <th>daily_vaccinations</th>\n",
       "      <th>people_vaccinated_per_hundred</th>\n",
       "    </tr>\n",
       "    <tr>\n",
       "      <th>location</th>\n",
       "      <th></th>\n",
       "      <th></th>\n",
       "      <th></th>\n",
       "    </tr>\n",
       "  </thead>\n",
       "  <tbody>\n",
       "    <tr>\n",
       "      <th rowspan=\"5\" valign=\"top\">Afghanistan</th>\n",
       "      <th>99</th>\n",
       "      <td>5102.0</td>\n",
       "      <td>0.00</td>\n",
       "    </tr>\n",
       "    <tr>\n",
       "      <th>100</th>\n",
       "      <td>5119.0</td>\n",
       "      <td>1.24</td>\n",
       "    </tr>\n",
       "    <tr>\n",
       "      <th>101</th>\n",
       "      <td>5285.0</td>\n",
       "      <td>1.24</td>\n",
       "    </tr>\n",
       "    <tr>\n",
       "      <th>102</th>\n",
       "      <td>5273.0</td>\n",
       "      <td>0.00</td>\n",
       "    </tr>\n",
       "    <tr>\n",
       "      <th>103</th>\n",
       "      <td>5261.0</td>\n",
       "      <td>0.00</td>\n",
       "    </tr>\n",
       "    <tr>\n",
       "      <th>...</th>\n",
       "      <th>...</th>\n",
       "      <td>...</td>\n",
       "      <td>...</td>\n",
       "    </tr>\n",
       "    <tr>\n",
       "      <th rowspan=\"5\" valign=\"top\">Zimbabwe</th>\n",
       "      <th>40282</th>\n",
       "      <td>16169.0</td>\n",
       "      <td>5.03</td>\n",
       "    </tr>\n",
       "    <tr>\n",
       "      <th>40283</th>\n",
       "      <td>19504.0</td>\n",
       "      <td>5.09</td>\n",
       "    </tr>\n",
       "    <tr>\n",
       "      <th>40284</th>\n",
       "      <td>22615.0</td>\n",
       "      <td>5.14</td>\n",
       "    </tr>\n",
       "    <tr>\n",
       "      <th>40285</th>\n",
       "      <td>24174.0</td>\n",
       "      <td>5.19</td>\n",
       "    </tr>\n",
       "    <tr>\n",
       "      <th>40286</th>\n",
       "      <td>23656.0</td>\n",
       "      <td>5.23</td>\n",
       "    </tr>\n",
       "  </tbody>\n",
       "</table>\n",
       "<p>6756 rows × 2 columns</p>\n",
       "</div>"
      ],
      "text/plain": [
       "                   daily_vaccinations  people_vaccinated_per_hundred\n",
       "location                                                            \n",
       "Afghanistan 99                 5102.0                           0.00\n",
       "            100                5119.0                           1.24\n",
       "            101                5285.0                           1.24\n",
       "            102                5273.0                           0.00\n",
       "            103                5261.0                           0.00\n",
       "...                               ...                            ...\n",
       "Zimbabwe    40282             16169.0                           5.03\n",
       "            40283             19504.0                           5.09\n",
       "            40284             22615.0                           5.14\n",
       "            40285             24174.0                           5.19\n",
       "            40286             23656.0                           5.23\n",
       "\n",
       "[6756 rows x 2 columns]"
      ]
     },
     "execution_count": 7,
     "metadata": {},
     "output_type": "execute_result"
    }
   ],
   "source": [
    "My_month.groupby('location')[['daily_vaccinations','people_vaccinated_per_hundred']].apply(lambda x: x.fillna(method='ffill')).copy()\n",
    "My_month.groupby('location')[['daily_vaccinations','people_vaccinated_per_hundred']].apply(lambda x:x.fillna(method='bfill')).copy()\n",
    "My_month.groupby('location')[['daily_vaccinations','people_vaccinated_per_hundred']].apply(lambda x:x.fillna(0).copy())\n"
   ]
  },
  {
   "cell_type": "code",
   "execution_count": null,
   "id": "46cf9aef-f73c-44fd-a18d-ba722bdd38e7",
   "metadata": {},
   "outputs": [],
   "source": [
    "# הסבר: השתמשנו בהעתקת נתון של הנתון הבא אחרי מכיוון שהמדינה הראשונה הייתה בעלת נתון חסר והאחרונה לא(לכן לא היה צריך לדאוג שהאחרונה תקבל מהבאה אחריה). קיבצנו באמצעות הפונקציה שמקבצת לפי מדינות על מנת שמדינה לא תיקח נתון של מדינה אחרת.  "
   ]
  },
  {
   "cell_type": "code",
   "execution_count": null,
   "id": "aebc94a8-06c8-4ce8-bdd6-c4ce61a418cc",
   "metadata": {},
   "outputs": [],
   "source": [
    "#3"
   ]
  },
  {
   "cell_type": "code",
   "execution_count": null,
   "id": "07064da5-18ee-4504-9189-3f18dff3aade",
   "metadata": {},
   "outputs": [],
   "source": [
    "new_month=My_month.loc[(My_month['location'] != 'Africa')&(My_month['location'] != 'Asia')&(My_month['location'] != 'Australia')&(My_month['location'] != 'Europe')&(My_month['location'] != 'America')&(My_month['location'] != 'Antarctica')&(My_month['location'] != 'World')].copy()\n",
    "My_Month_MAX=new_month.loc[new_month['daily_vaccinations']==new_month['daily_vaccinations'].max()]\n",
    "My_Month_MAX[['location','date']]"
   ]
  },
  {
   "cell_type": "code",
   "execution_count": null,
   "id": "a8aa5197-1bc6-4070-aab3-30dd63789761",
   "metadata": {},
   "outputs": [],
   "source": []
  },
  {
   "cell_type": "code",
   "execution_count": null,
   "id": "752c09c8-f7cd-4924-a3d1-e8656ff50ccf",
   "metadata": {},
   "outputs": [],
   "source": [
    "## שאלה 4"
   ]
  },
  {
   "cell_type": "code",
   "execution_count": null,
   "id": "5b3ce169-0abf-418d-bc20-92de5d1467da",
   "metadata": {},
   "outputs": [],
   "source": [
    "new_month['daily_vaccinations'].mean()"
   ]
  },
  {
   "cell_type": "code",
   "execution_count": null,
   "id": "dd3b7324-c4d0-4168-a291-e986b3c9cc8e",
   "metadata": {},
   "outputs": [],
   "source": [
    "new_month['daily_vaccinations'].median()"
   ]
  },
  {
   "cell_type": "code",
   "execution_count": null,
   "id": "9a726ad5-75ef-4ff2-89d4-e0a4efac99a9",
   "metadata": {},
   "outputs": [],
   "source": [
    "# הסבר-הממוצע יהיה גדול יותר מכיוון שהוא מתייחס לכל הערכים וגם לעכים הגדולים/הקנים הקיצוניות ואילו החציון רק לערכים המרכזיים ולא לקיצוניים שמשפיעים על קבוצת רוב הנתונים"
   ]
  },
  {
   "cell_type": "code",
   "execution_count": null,
   "id": "c0f270f6-8b2c-4701-9015-58d3d53c73d6",
   "metadata": {},
   "outputs": [],
   "source": []
  },
  {
   "cell_type": "code",
   "execution_count": null,
   "id": "9f73bf52-c7cd-4675-8640-45910a25ff08",
   "metadata": {},
   "outputs": [],
   "source": [
    "##שאלה 5"
   ]
  },
  {
   "cell_type": "code",
   "execution_count": null,
   "id": "d8701dd1-b8a5-4f41-82bc-ee63b8be66a0",
   "metadata": {},
   "outputs": [],
   "source": [
    "per_hundred_Israel=new_month[new_month.location=='Israel'][0:7].copy()\n",
    "per_hundred_Israel['people_vaccinated_per_hundred'][0:7].mean()"
   ]
  },
  {
   "cell_type": "code",
   "execution_count": null,
   "id": "41566730-8f0e-4335-972a-19493d1e09ba",
   "metadata": {},
   "outputs": [],
   "source": [
    "##שאלה 6"
   ]
  },
  {
   "cell_type": "code",
   "execution_count": null,
   "id": "e300b5dc-fccb-4582-9bb5-3dc89c8c2aa3",
   "metadata": {},
   "outputs": [],
   "source": []
  },
  {
   "cell_type": "code",
   "execution_count": null,
   "id": "875b2262-74db-4c6e-927c-daaff85a33d9",
   "metadata": {},
   "outputs": [],
   "source": [
    "new_month['date'] = pd.to_datetime(new_month['date'])\n",
    "new_month['month']=pd.DatetimeIndex(new_month['date']).month\n",
    "new_month1=new_month.groupby('location')[['month','people_vaccinated_per_hundred']].max().copy()\n",
    "new_month1.sort_values('people_vaccinated_per_hundred',ascending = False)[0:3].reset_index()\n"
   ]
  },
  {
   "cell_type": "code",
   "execution_count": null,
   "id": "65f69e9c-88a3-42e8-8cbe-b3a346756f61",
   "metadata": {},
   "outputs": [],
   "source": []
  },
  {
   "cell_type": "code",
   "execution_count": null,
   "id": "927f8e0a-f841-4341-a1bf-c9bead884354",
   "metadata": {},
   "outputs": [],
   "source": []
  }
 ],
 "metadata": {
  "kernelspec": {
   "display_name": "Python 3 (ipykernel)",
   "language": "python",
   "name": "python3"
  },
  "language_info": {
   "codemirror_mode": {
    "name": "ipython",
    "version": 3
   },
   "file_extension": ".py",
   "mimetype": "text/x-python",
   "name": "python",
   "nbconvert_exporter": "python",
   "pygments_lexer": "ipython3",
   "version": "3.9.6"
  }
 },
 "nbformat": 4,
 "nbformat_minor": 5
}
